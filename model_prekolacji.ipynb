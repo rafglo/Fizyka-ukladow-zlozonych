{
 "cells": [
  {
   "cell_type": "code",
   "execution_count": 1,
   "metadata": {},
   "outputs": [],
   "source": [
    "import numpy as np"
   ]
  },
  {
   "attachments": {
    "image.png": {
     "image/png": "[encoded data removed]"
    }
   },
   "cell_type": "markdown",
   "metadata": {},
   "source": [
    "![image.png](attachment:image.png)"
   ]
  },
  {
   "cell_type": "code",
   "execution_count": 32,
   "metadata": {},
   "outputs": [],
   "source": [
    "L = 16\n",
    "p = 0.9\n",
    "net = np.zeros((L,L))\n",
    "for i in range(L):\n",
    "    for j in range(L):\n",
    "        r = np.random.uniform(0,1)\n",
    "        if r < p:\n",
    "            net[i,j] = 1\n",
    "        else:\n",
    "            net[i,j] = 0"
   ]
  },
  {
   "cell_type": "code",
   "execution_count": 33,
   "metadata": {},
   "outputs": [],
   "source": [
    "t = 2\n",
    "for i in range(L):\n",
    "    if net[0, i] == 1:\n",
    "        net[0,i] = 2\n",
    "any_neigbhours = True\n",
    "last_row_reached = False"
   ]
  },
  {
   "cell_type": "code",
   "execution_count": 34,
   "metadata": {},
   "outputs": [
    {
     "name": "stdout",
     "output_type": "stream",
     "text": [
      "Istnieje ścieżka łącząca pierwszy i ostatni rząd\n",
      "[[ 2.  2.  2.  2.  2.  2.  2.  2.  2.  2.  0.  2.  2.  2.  2.  2.]\n",
      " [ 3.  3.  3.  3.  3.  0.  3.  0.  3.  3.  4.  3.  3.  3.  3.  3.]\n",
      " [ 4.  4.  4.  4.  4.  5.  4.  5.  4.  4.  5.  4.  4.  4.  4.  4.]\n",
      " [ 5.  5.  5.  5.  5.  6.  5.  6.  5.  5.  6.  5.  5.  0.  5.  5.]\n",
      " [ 6.  6.  6.  6.  6.  7.  6.  7.  6.  6.  7.  6.  6.  7.  6.  6.]\n",
      " [ 7.  7.  7.  7.  7.  8.  7.  8.  7.  7.  8.  7.  7.  8.  0.  7.]\n",
      " [ 8.  8.  0.  8.  8.  9.  8.  9.  8.  8.  9.  8.  8.  9.  9.  8.]\n",
      " [ 9.  9. 10.  9.  0. 10.  9. 10.  9.  9. 10.  9.  9. 10. 10.  9.]\n",
      " [10. 10. 11. 10.  0. 11. 10. 11. 10. 10. 11. 10. 10. 11. 11. 10.]\n",
      " [11. 11. 12. 11. 12. 12. 11. 12. 11. 11.  0. 11. 11. 12. 12. 11.]\n",
      " [12. 12. 13. 12. 13. 13. 12. 13. 12. 12.  0. 12. 12. 13.  0. 12.]\n",
      " [ 0. 13. 14. 13. 14. 14. 13. 14. 13. 13. 14. 13. 13. 14. 14. 13.]\n",
      " [15. 14. 15.  0. 15. 15.  0. 15. 14. 14. 15. 14. 14. 15. 15. 14.]\n",
      " [16. 15.  0. 17. 16. 16. 17. 16. 15. 15. 16. 15. 15.  0. 16. 15.]\n",
      " [17. 16. 17. 18. 17. 17. 18. 17.  0. 16. 17.  0. 16. 17. 17. 16.]\n",
      " [18. 17. 18. 19. 18. 18.  0. 18. 19.  0. 18.  0. 17. 18. 18. 17.]]\n"
     ]
    }
   ],
   "source": [
    "while any_neigbhours and not(last_row_reached):\n",
    "    neigbours = 0\n",
    "    for i in range(L):\n",
    "        for j in range(L):\n",
    "            if net[i,j] == t:\n",
    "                if i - 1 >= 0:\n",
    "                    if net[i - 1, j] == 1:\n",
    "                        net[i - 1, j] = t + 1\n",
    "                        neigbours += 1\n",
    "                if i + 1 < L:\n",
    "                    if net[i + 1, j] == 1:\n",
    "                        net[i + 1, j] = t + 1\n",
    "                        neigbours += 1\n",
    "                if j - 1 >= 0:\n",
    "                    if net[i, j - 1] == 1:\n",
    "                        net[i, j - 1] = t + 1\n",
    "                        neigbours += 1\n",
    "                if j + 1 < L:\n",
    "                    if net[i, j + 1] == 1:\n",
    "                        net[i, j + 1] = t + 1\n",
    "                        neigbours += 1\n",
    "    for i in range(L):\n",
    "        if t > 2:\n",
    "            if net[L-1, i] == t-1:\n",
    "                last_row_reached = True\n",
    "    if neigbours == 0:\n",
    "        any_neigbhours = False\n",
    "    t += 1\n",
    "if last_row_reached:\n",
    "    print(\"Istnieje ścieżka łącząca pierwszy i ostatni rząd\")\n",
    "else:\n",
    "    print(\"Nie istnieje ścieżka łącząca pierwszy i ostatni rząd\")\n",
    "print(net)\n",
    "    \n"
   ]
  },
  {
   "attachments": {
    "image.png": {
     "image/png": "[encoded data removed]"
    }
   },
   "cell_type": "markdown",
   "metadata": {},
   "source": [
    "![image.png](attachment:image.png)"
   ]
  },
  {
   "cell_type": "code",
   "execution_count": null,
   "metadata": {},
   "outputs": [],
   "source": [
    "def cluster(L, p):\n",
    "    net = np.zeros((L,L))\n",
    "    for i in range(L):\n",
    "        for j in range(L):\n",
    "            r = np.random.uniform(0,1)\n",
    "            if r < p:\n",
    "                net[i,j] = 1\n",
    "            else:\n",
    "                net[i,j] = 0\n",
    "    M_k = [1]\n",
    "    k = 2\n",
    "    changed_clusters = []\n",
    "    for i in range(L):\n",
    "        for j in range(L):\n",
    "            if net[i,j] == 1:\n",
    "                net[i,j] = k\n",
    "                M_k.append(1)\n",
    "                break\n",
    "    for i in range(L):\n",
    "        for j in range(L):\n",
    "            if k < 0:\n",
    "                for change in changed_clusters:\n",
    "                    if k == change[0]:\n",
    "                        k = change[1]\n",
    "                        M_k[change[0] -2] = M_k[change[1]-2]          \n",
    "            if i - 1 >= 0 or j - 1 >= 0:\n",
    "                left = net[i, j - 1]\n",
    "                top = net[i-1, j]\n",
    "                if left == 0 and top == 0:\n",
    "                    k += 1\n",
    "                    net[i,j] = k\n",
    "                    M_k.append(1)\n",
    "                elif 2 <= left <= k and top == 0:\n",
    "                    M_k[left - 2] += 1\n",
    "                    net[i,j] = left\n",
    "                elif 2 <= top <= k and left == 0:\n",
    "                    M_k[top - 2] += 1\n",
    "                    net[i,j] = top\n",
    "                elif 2 <= left <= k and 2 <= top <= k:\n",
    "                    if left != top:\n",
    "                        net[i,j] = left\n",
    "                        M_k[left - 2] += (M_k[top - 2] + 1)\n",
    "                        M_k[top - 2] *= -1\n",
    "                        changed_clusters.append([top, left])\n",
    "                    if left == top:\n",
    "                        net[i,j] = left\n",
    "                        M_k[left - 2] += 1\n",
    "            else:\n",
    "                k += 1\n",
    "                net[i,j] = k\n",
    "                M_k[k-2] += 1\n",
    "\n",
    "\n",
    "\n",
    "\n"
   ]
  }
 ],
 "metadata": {
  "kernelspec": {
   "display_name": "Python 3",
   "language": "python",
   "name": "python3"
  },
  "language_info": {
   "codemirror_mode": {
    "name": "ipython",
    "version": 3
   },
   "file_extension": ".py",
   "mimetype": "text/x-python",
   "name": "python",
   "nbconvert_exporter": "python",
   "pygments_lexer": "ipython3",
   "version": "3.8.0"
  }
 },
 "nbformat": 4,
 "nbformat_minor": 2
}
